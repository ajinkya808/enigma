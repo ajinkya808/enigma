{
 "cells": [
  {
   "cell_type": "code",
   "execution_count": null,
   "metadata": {},
   "outputs": [],
   "source": [
    "operating_directory=\"C:\\\\git\\\\StormBreaker\\\\Enigma\"\n",
    "chromeDriver_path=\"C:\\git\\StormBreaker\\Enigma\\chromedriver.exe\"\n",
    "excludeStocks=['YESBANK','IDEA','GOLDBEES','JUNIORBEES']\n",
    "\n",
    "from Zerodha_workflow import zerodha_workflow as z\n",
    "z=z.zerodha_workflow(operating_directory,chromeDriver_path)\n",
    "\n",
    "from Trendlyn_workflow import trendlyn_workflow as t\n",
    "t=t.trendlyn_workflow(operating_directory,chromeDriver_path)\n",
    "\n",
    "from Enigma import enigma as engm\n",
    "e=engm.enigma(operating_directory,chromeDriver_path,excludeStocks)\n",
    "\n",
    "e.data.to_excel('support_resistance.xlsx',index=False)\n",
    "e.temp\n"
   ]
  },
  {
   "cell_type": "code",
   "execution_count": null,
   "metadata": {},
   "outputs": [],
   "source": []
  },
  {
   "cell_type": "code",
   "execution_count": null,
   "metadata": {},
   "outputs": [],
   "source": []
  },
  {
   "cell_type": "code",
   "execution_count": null,
   "metadata": {},
   "outputs": [],
   "source": []
  },
  {
   "cell_type": "code",
   "execution_count": null,
   "metadata": {},
   "outputs": [],
   "source": []
  }
 ],
 "metadata": {
  "kernelspec": {
   "display_name": "Python 3",
   "language": "python",
   "name": "python3"
  },
  "language_info": {
   "codemirror_mode": {
    "name": "ipython",
    "version": 3
   },
   "file_extension": ".py",
   "mimetype": "text/x-python",
   "name": "python",
   "nbconvert_exporter": "python",
   "pygments_lexer": "ipython3",
   "version": "3.8.3"
  }
 },
 "nbformat": 4,
 "nbformat_minor": 4
}

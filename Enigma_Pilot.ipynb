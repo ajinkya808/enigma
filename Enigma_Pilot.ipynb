{
 "cells": [
  {
   "cell_type": "code",
   "execution_count": 1,
   "metadata": {},
   "outputs": [
    {
     "output_type": "stream",
     "name": "stderr",
     "text": [
      "/Users/rd/Documents/r_d/enigma/Zerodha_workflow/zerodha_workflow.py:81: FutureWarning: As the xlwt package is no longer maintained, the xlwt engine will be removed in a future version of pandas. This is the only engine in pandas that supports writing in the xls format. Install openpyxl and write to an xlsx file instead. You can set the option io.excel.xls.writer to 'xlwt' to silence this warning. While this option is deprecated and will also raise a warning, it can be globally set and the warning suppressed.\n",
      "  upload_document.to_excel(os.path.join(\n",
      "/usr/local/lib/python3.9/site-packages/pandas/core/frame.py:4308: SettingWithCopyWarning: \n",
      "A value is trying to be set on a copy of a slice from a DataFrame\n",
      "\n",
      "See the caveats in the documentation: https://pandas.pydata.org/pandas-docs/stable/user_guide/indexing.html#returning-a-view-versus-a-copy\n",
      "  return super().drop(\n",
      "/usr/local/lib/python3.9/site-packages/pandas/core/frame.py:3191: SettingWithCopyWarning: \n",
      "A value is trying to be set on a copy of a slice from a DataFrame.\n",
      "Try using .loc[row_indexer,col_indexer] = value instead\n",
      "\n",
      "See the caveats in the documentation: https://pandas.pydata.org/pandas-docs/stable/user_guide/indexing.html#returning-a-view-versus-a-copy\n",
      "  self[k1] = value[k2]\n"
     ]
    },
    {
     "output_type": "execute_result",
     "data": {
      "text/plain": [
       "    Instrument  Qty.  Avg. cost      LTP  Investment   Current     P&L  %P&L  \\\n",
       "0      APTECHT     5     206.90   249.50     1034.50   1247.50  213.00  20.6   \n",
       "1      AREYDRG    45      35.28    34.45     1587.60   1550.25  -37.35  -2.4   \n",
       "2       ASHOKA     3      97.75   100.45      293.25    301.35    8.10   2.8   \n",
       "3     CENTENKA     2     391.95   393.20      783.90    786.40    2.50   0.3   \n",
       "4    COASTCORP    15     287.67   324.90     4315.05   4873.50  558.45  12.9   \n",
       "5       DAAWAT    10      77.55    77.65      775.50    776.50    1.00   0.1   \n",
       "6     DBREALTY    10      25.40    27.00      254.00    270.00   16.00   6.3   \n",
       "7    DELTACORP     8     178.56   183.55     1428.48   1468.40   39.92   2.8   \n",
       "8      DLTNCBL    10      62.95    63.60      629.50    636.00    6.50   1.0   \n",
       "9       FORTIS     3     228.10   233.75      684.30    701.25   16.95   2.5   \n",
       "10    GLENMARK     2     631.75   652.90     1263.50   1305.80   42.30   3.3   \n",
       "11    GOODLUCK    15     109.05   108.90     1635.75   1633.50   -2.25  -0.1   \n",
       "12  GRWRHITECH     4     899.95   911.55     3599.80   3646.20   46.40   1.3   \n",
       "13        GSPL     5     303.80   305.00     1519.00   1525.00    6.00   0.4   \n",
       "14   GULFPETRO    40      68.90    67.00     2756.00   2680.00  -76.00  -2.8   \n",
       "15  HARRMALAYA     5     199.90   218.90      999.50   1094.50   95.00   9.5   \n",
       "16  IBULHSGFIN     5     249.00   287.35     1245.00   1436.75  191.75  15.4   \n",
       "17  JETAIRWAYS    10      98.75    99.25      987.50    992.50    5.00   0.5   \n",
       "18  JUBLINGREA     3     482.95   576.00     1448.85   1728.00  279.15  19.3   \n",
       "19  KARURVYSYA     5      54.95    54.00      274.75    270.00   -4.75  -1.7   \n",
       "20         KSL     5     373.30   393.65     1866.50   1968.25  101.75   5.5   \n",
       "21      LKPSEC   100      11.68    11.15     1168.00   1115.00  -53.00  -4.5   \n",
       "22      MAFANG   211      47.95    49.60    10117.45  10465.60  348.15   3.4   \n",
       "23  MOTHERSUMI     5     248.70   246.10     1243.50   1230.50  -13.00  -1.0   \n",
       "24         NCC    25      83.65    90.45     2091.25   2261.25  170.00   8.1   \n",
       "25   ORIENTCEM     5     139.75   135.70      698.75    678.50  -20.25  -2.9   \n",
       "26   POWERGRID     5     244.70   246.80     1223.50   1234.00   10.50   0.9   \n",
       "27    PRESTIGE     3     297.05   293.60      891.15    880.80  -10.35  -1.2   \n",
       "28   PRICOLLTD    10      91.00    93.00      910.00    930.00   20.00   2.2   \n",
       "29      RDBRIL    20      30.23    33.90      604.60    678.00   73.40  12.1   \n",
       "30       TANAA    10      39.50    38.00      395.00    380.00  -15.00  -3.8   \n",
       "31   TATASTEEL     1    1134.00  1163.50     1134.00   1163.50   29.50   2.6   \n",
       "32  TORNTPOWER     4     455.00   463.90     1820.00   1855.60   35.60   2.0   \n",
       "33  TV18BRDCST    15      41.25    46.15      618.75    692.25   73.50  11.9   \n",
       "34     YESBANK    75      13.45    14.39     1008.75   1079.25   70.50   7.0   \n",
       "\n",
       "    Day                                class  ...    2Yr    3Yr      5Yr  \\\n",
       "0   0.9                     Expensive Rocket  ...   66.6   -9.1    262.4   \n",
       "1  -0.1        Strong Performer, Under Radar  ...   52.7  -14.6    509.5   \n",
       "2   0.0        Strong Performer, Under Radar  ...  -28.0  -36.0     15.3   \n",
       "3   0.0                     Strong Performer  ...   77.3   32.3     84.5   \n",
       "4  -0.1  Strong Performer, Getting Expensive  ...    4.2  510.5  10188.0   \n",
       "5   0.1                     Strong Performer  ...  162.4   10.9    240.4   \n",
       "6  -0.2                                  NaN  ...   83.4  -36.5    -43.4   \n",
       "7   0.0                     Expensive Rocket  ...   -1.9  -18.7    117.7   \n",
       "8  -0.6                                  NaN  ...  190.2  215.3    181.3   \n",
       "9   0.3                                  NaN  ...   75.8   62.1     38.5   \n",
       "10  0.0  Strong Performer, Getting Expensive  ...   23.7   15.7    -15.7   \n",
       "11  0.0                     Strong Performer  ...   61.3   43.7      4.7   \n",
       "12 -0.1                                  NaN  ...    0.0    0.0      0.0   \n",
       "13 -0.2  Strong Performer, Getting Expensive  ...   61.9   66.2    127.4   \n",
       "14 -0.2                     Strong Performer  ...   21.1   -5.0      4.8   \n",
       "15  0.0                     Strong Performer  ...  212.9  143.5    250.5   \n",
       "16  0.0                 Turnaround Potential  ...  -57.4  -76.1    -59.7   \n",
       "17 -0.3                        Momentum Trap  ...  -11.6  -75.2    -82.5   \n",
       "18 -0.0                                  NaN  ...    0.0    0.0      0.0   \n",
       "19  0.0        Strong Performer, Under Radar  ...  -30.5  -43.9    -37.2   \n",
       "20  0.0                     Strong Performer  ...   77.3   42.0    107.4   \n",
       "21 -0.3  Strong Performer, Getting Expensive  ...   32.3  -42.7      0.0   \n",
       "22  0.1                                  NaN  ...    0.0    0.0      0.0   \n",
       "23  0.6                       Expensive Star  ...  106.8   18.4     90.9   \n",
       "24  0.0                 Turnaround Potential  ...   -4.7  -19.6     20.9   \n",
       "25  0.0                     Strong Performer  ...   18.1   16.8    -19.9   \n",
       "26  0.2                     Strong Performer  ...   27.2   25.9     59.9   \n",
       "27  0.0                  Mid-range Performer  ...    9.8   12.5     55.0   \n",
       "28 -0.8  Strong Performer, Getting Expensive  ...  145.0   28.3     24.9   \n",
       "29  0.2                     Strong Performer  ...   30.2  -21.3     18.8   \n",
       "30  0.5                                  NaN  ...    0.0    0.0      0.0   \n",
       "31  0.4                     Strong Performer  ...  135.2   96.8    245.8   \n",
       "32 -0.2  Strong Performer, Getting Expensive  ...   87.4   80.5    152.7   \n",
       "33  0.3  Strong Performer, Getting Expensive  ...   65.2  -19.2     12.6   \n",
       "34 -0.3                        Momentum Trap  ...  -89.7  -95.7    -93.2   \n",
       "\n",
       "                              Sector    1Yr  Target Rs.  Target %   Stop Loss  \\\n",
       "0                Software & Services  143.0        0.00      0.00   228.04616   \n",
       "1    Pharmaceuticals & Biotechnology   85.5        0.00      0.00    32.40000   \n",
       "2                     Transportation   92.6      138.71     38.09    88.46439   \n",
       "3   Textiles, Apparels & Accessories  114.4        0.00      0.00   380.87728   \n",
       "4     Commercial Services & Supplies   18.2        0.00      0.00   297.30000   \n",
       "5          Food, Beverages & Tobacco  123.8        0.00      0.00    74.29414   \n",
       "6                             Realty  231.9        0.00      0.00    24.59664   \n",
       "7     Commercial Services & Supplies  103.8        0.00      0.00   178.29174   \n",
       "8     Commercial Services & Supplies  114.4        0.00      0.00    46.60000   \n",
       "9      Diversified Consumer Services   94.0        0.00      0.00   226.94520   \n",
       "10   Pharmaceuticals & Biotechnology   69.8      609.86     -6.59   603.14724   \n",
       "11                   Metals & Mining  200.4        0.00      0.00   101.46960   \n",
       "12                               NaN    NaN        0.00      0.00         NaN   \n",
       "13                         Utilities   38.6      301.83     -1.17   289.92760   \n",
       "14                         Oil & Gas   51.0        0.00      0.00    60.53004   \n",
       "15     Automobiles & Auto Components  214.3        0.00      0.00   182.54250   \n",
       "16               Banking and Finance   87.6        0.00      0.00   232.76241   \n",
       "17                    Transportation  259.8        0.00      0.00    91.06700   \n",
       "18                            Others    NaN      770.00     33.62   529.00000   \n",
       "19               Banking and Finance  101.5       33.00    -38.89    52.27424   \n",
       "20                   Metals & Mining  120.0        0.00      0.00   364.26726   \n",
       "21    Commercial Services & Supplies  132.9        0.00      0.00    10.20000   \n",
       "22                            Others    NaN        0.00      0.00    47.50000   \n",
       "23     Automobiles & Auto Components  161.5      280.33     14.58   237.72062   \n",
       "24           Cement and Construction  207.1      106.50     17.74    77.14648   \n",
       "25           Cement and Construction  130.0      170.00     25.28   130.13799   \n",
       "26                         Utilities   44.0      230.50     -6.41   229.92296   \n",
       "27                            Realty   54.0      307.33      4.68   281.24352   \n",
       "28     Automobiles & Auto Components  131.1       95.00      1.39    85.61300   \n",
       "29                            Realty   78.2        0.00      0.00    21.60000   \n",
       "30                               NaN    NaN        0.00      0.00         NaN   \n",
       "31                   Metals & Mining  269.9      829.40    -28.40  1074.26746   \n",
       "32                         Utilities   42.6      470.50      1.26   448.15500   \n",
       "33                             Media   63.1        0.00      0.00    34.97824   \n",
       "34               Banking and Finance  -51.7       12.00    -16.67    13.48765   \n",
       "\n",
       "        %Loss      Loss  \n",
       "0   10.220474  21.14616  \n",
       "1   -8.163265  -2.88000  \n",
       "2   -9.499345  -9.28561  \n",
       "3   -2.825034 -11.07272  \n",
       "4    3.347586   9.63000  \n",
       "5   -4.198401  -3.25586  \n",
       "6   -3.162835  -0.80336  \n",
       "7   -0.150235  -0.26826  \n",
       "8  -25.972994 -16.35000  \n",
       "9   -0.506269  -1.15480  \n",
       "10  -4.527544 -28.60276  \n",
       "11  -6.951307  -7.58040  \n",
       "12        NaN       NaN  \n",
       "13  -4.566294 -13.87240  \n",
       "14 -12.147983  -8.36996  \n",
       "15  -8.683092 -17.35750  \n",
       "16  -6.521120 -16.23759  \n",
       "17  -7.780253  -7.68300  \n",
       "18   9.535149  46.05000  \n",
       "19  -4.869445  -2.67576  \n",
       "20  -2.419700  -9.03274  \n",
       "21 -12.671233  -1.48000  \n",
       "22  -0.938478  -0.45000  \n",
       "23  -4.414708 -10.97938  \n",
       "24  -7.774680  -6.50352  \n",
       "25  -6.878004  -9.61201  \n",
       "26  -6.038839 -14.77704  \n",
       "27  -5.321151 -15.80648  \n",
       "28  -5.919780  -5.38700  \n",
       "29 -28.547800  -8.63000  \n",
       "30        NaN       NaN  \n",
       "31  -5.267420 -59.73254  \n",
       "32  -1.504396  -6.84500  \n",
       "33 -15.204267  -6.27176  \n",
       "34   0.279926   0.03765  \n",
       "\n",
       "[35 rows x 30 columns]"
      ],
      "text/html": "<div>\n<style scoped>\n    .dataframe tbody tr th:only-of-type {\n        vertical-align: middle;\n    }\n\n    .dataframe tbody tr th {\n        vertical-align: top;\n    }\n\n    .dataframe thead th {\n        text-align: right;\n    }\n</style>\n<table border=\"1\" class=\"dataframe\">\n  <thead>\n    <tr style=\"text-align: right;\">\n      <th></th>\n      <th>Instrument</th>\n      <th>Qty.</th>\n      <th>Avg. cost</th>\n      <th>LTP</th>\n      <th>Investment</th>\n      <th>Current</th>\n      <th>P&amp;L</th>\n      <th>%P&amp;L</th>\n      <th>Day</th>\n      <th>class</th>\n      <th>...</th>\n      <th>2Yr</th>\n      <th>3Yr</th>\n      <th>5Yr</th>\n      <th>Sector</th>\n      <th>1Yr</th>\n      <th>Target Rs.</th>\n      <th>Target %</th>\n      <th>Stop Loss</th>\n      <th>%Loss</th>\n      <th>Loss</th>\n    </tr>\n  </thead>\n  <tbody>\n    <tr>\n      <th>0</th>\n      <td>APTECHT</td>\n      <td>5</td>\n      <td>206.90</td>\n      <td>249.50</td>\n      <td>1034.50</td>\n      <td>1247.50</td>\n      <td>213.00</td>\n      <td>20.6</td>\n      <td>0.9</td>\n      <td>Expensive Rocket</td>\n      <td>...</td>\n      <td>66.6</td>\n      <td>-9.1</td>\n      <td>262.4</td>\n      <td>Software &amp; Services</td>\n      <td>143.0</td>\n      <td>0.00</td>\n      <td>0.00</td>\n      <td>228.04616</td>\n      <td>10.220474</td>\n      <td>21.14616</td>\n    </tr>\n    <tr>\n      <th>1</th>\n      <td>AREYDRG</td>\n      <td>45</td>\n      <td>35.28</td>\n      <td>34.45</td>\n      <td>1587.60</td>\n      <td>1550.25</td>\n      <td>-37.35</td>\n      <td>-2.4</td>\n      <td>-0.1</td>\n      <td>Strong Performer, Under Radar</td>\n      <td>...</td>\n      <td>52.7</td>\n      <td>-14.6</td>\n      <td>509.5</td>\n      <td>Pharmaceuticals &amp; Biotechnology</td>\n      <td>85.5</td>\n      <td>0.00</td>\n      <td>0.00</td>\n      <td>32.40000</td>\n      <td>-8.163265</td>\n      <td>-2.88000</td>\n    </tr>\n    <tr>\n      <th>2</th>\n      <td>ASHOKA</td>\n      <td>3</td>\n      <td>97.75</td>\n      <td>100.45</td>\n      <td>293.25</td>\n      <td>301.35</td>\n      <td>8.10</td>\n      <td>2.8</td>\n      <td>0.0</td>\n      <td>Strong Performer, Under Radar</td>\n      <td>...</td>\n      <td>-28.0</td>\n      <td>-36.0</td>\n      <td>15.3</td>\n      <td>Transportation</td>\n      <td>92.6</td>\n      <td>138.71</td>\n      <td>38.09</td>\n      <td>88.46439</td>\n      <td>-9.499345</td>\n      <td>-9.28561</td>\n    </tr>\n    <tr>\n      <th>3</th>\n      <td>CENTENKA</td>\n      <td>2</td>\n      <td>391.95</td>\n      <td>393.20</td>\n      <td>783.90</td>\n      <td>786.40</td>\n      <td>2.50</td>\n      <td>0.3</td>\n      <td>0.0</td>\n      <td>Strong Performer</td>\n      <td>...</td>\n      <td>77.3</td>\n      <td>32.3</td>\n      <td>84.5</td>\n      <td>Textiles, Apparels &amp; Accessories</td>\n      <td>114.4</td>\n      <td>0.00</td>\n      <td>0.00</td>\n      <td>380.87728</td>\n      <td>-2.825034</td>\n      <td>-11.07272</td>\n    </tr>\n    <tr>\n      <th>4</th>\n      <td>COASTCORP</td>\n      <td>15</td>\n      <td>287.67</td>\n      <td>324.90</td>\n      <td>4315.05</td>\n      <td>4873.50</td>\n      <td>558.45</td>\n      <td>12.9</td>\n      <td>-0.1</td>\n      <td>Strong Performer, Getting Expensive</td>\n      <td>...</td>\n      <td>4.2</td>\n      <td>510.5</td>\n      <td>10188.0</td>\n      <td>Commercial Services &amp; Supplies</td>\n      <td>18.2</td>\n      <td>0.00</td>\n      <td>0.00</td>\n      <td>297.30000</td>\n      <td>3.347586</td>\n      <td>9.63000</td>\n    </tr>\n    <tr>\n      <th>5</th>\n      <td>DAAWAT</td>\n      <td>10</td>\n      <td>77.55</td>\n      <td>77.65</td>\n      <td>775.50</td>\n      <td>776.50</td>\n      <td>1.00</td>\n      <td>0.1</td>\n      <td>0.1</td>\n      <td>Strong Performer</td>\n      <td>...</td>\n      <td>162.4</td>\n      <td>10.9</td>\n      <td>240.4</td>\n      <td>Food, Beverages &amp; Tobacco</td>\n      <td>123.8</td>\n      <td>0.00</td>\n      <td>0.00</td>\n      <td>74.29414</td>\n      <td>-4.198401</td>\n      <td>-3.25586</td>\n    </tr>\n    <tr>\n      <th>6</th>\n      <td>DBREALTY</td>\n      <td>10</td>\n      <td>25.40</td>\n      <td>27.00</td>\n      <td>254.00</td>\n      <td>270.00</td>\n      <td>16.00</td>\n      <td>6.3</td>\n      <td>-0.2</td>\n      <td>NaN</td>\n      <td>...</td>\n      <td>83.4</td>\n      <td>-36.5</td>\n      <td>-43.4</td>\n      <td>Realty</td>\n      <td>231.9</td>\n      <td>0.00</td>\n      <td>0.00</td>\n      <td>24.59664</td>\n      <td>-3.162835</td>\n      <td>-0.80336</td>\n    </tr>\n    <tr>\n      <th>7</th>\n      <td>DELTACORP</td>\n      <td>8</td>\n      <td>178.56</td>\n      <td>183.55</td>\n      <td>1428.48</td>\n      <td>1468.40</td>\n      <td>39.92</td>\n      <td>2.8</td>\n      <td>0.0</td>\n      <td>Expensive Rocket</td>\n      <td>...</td>\n      <td>-1.9</td>\n      <td>-18.7</td>\n      <td>117.7</td>\n      <td>Commercial Services &amp; Supplies</td>\n      <td>103.8</td>\n      <td>0.00</td>\n      <td>0.00</td>\n      <td>178.29174</td>\n      <td>-0.150235</td>\n      <td>-0.26826</td>\n    </tr>\n    <tr>\n      <th>8</th>\n      <td>DLTNCBL</td>\n      <td>10</td>\n      <td>62.95</td>\n      <td>63.60</td>\n      <td>629.50</td>\n      <td>636.00</td>\n      <td>6.50</td>\n      <td>1.0</td>\n      <td>-0.6</td>\n      <td>NaN</td>\n      <td>...</td>\n      <td>190.2</td>\n      <td>215.3</td>\n      <td>181.3</td>\n      <td>Commercial Services &amp; Supplies</td>\n      <td>114.4</td>\n      <td>0.00</td>\n      <td>0.00</td>\n      <td>46.60000</td>\n      <td>-25.972994</td>\n      <td>-16.35000</td>\n    </tr>\n    <tr>\n      <th>9</th>\n      <td>FORTIS</td>\n      <td>3</td>\n      <td>228.10</td>\n      <td>233.75</td>\n      <td>684.30</td>\n      <td>701.25</td>\n      <td>16.95</td>\n      <td>2.5</td>\n      <td>0.3</td>\n      <td>NaN</td>\n      <td>...</td>\n      <td>75.8</td>\n      <td>62.1</td>\n      <td>38.5</td>\n      <td>Diversified Consumer Services</td>\n      <td>94.0</td>\n      <td>0.00</td>\n      <td>0.00</td>\n      <td>226.94520</td>\n      <td>-0.506269</td>\n      <td>-1.15480</td>\n    </tr>\n    <tr>\n      <th>10</th>\n      <td>GLENMARK</td>\n      <td>2</td>\n      <td>631.75</td>\n      <td>652.90</td>\n      <td>1263.50</td>\n      <td>1305.80</td>\n      <td>42.30</td>\n      <td>3.3</td>\n      <td>0.0</td>\n      <td>Strong Performer, Getting Expensive</td>\n      <td>...</td>\n      <td>23.7</td>\n      <td>15.7</td>\n      <td>-15.7</td>\n      <td>Pharmaceuticals &amp; Biotechnology</td>\n      <td>69.8</td>\n      <td>609.86</td>\n      <td>-6.59</td>\n      <td>603.14724</td>\n      <td>-4.527544</td>\n      <td>-28.60276</td>\n    </tr>\n    <tr>\n      <th>11</th>\n      <td>GOODLUCK</td>\n      <td>15</td>\n      <td>109.05</td>\n      <td>108.90</td>\n      <td>1635.75</td>\n      <td>1633.50</td>\n      <td>-2.25</td>\n      <td>-0.1</td>\n      <td>0.0</td>\n      <td>Strong Performer</td>\n      <td>...</td>\n      <td>61.3</td>\n      <td>43.7</td>\n      <td>4.7</td>\n      <td>Metals &amp; Mining</td>\n      <td>200.4</td>\n      <td>0.00</td>\n      <td>0.00</td>\n      <td>101.46960</td>\n      <td>-6.951307</td>\n      <td>-7.58040</td>\n    </tr>\n    <tr>\n      <th>12</th>\n      <td>GRWRHITECH</td>\n      <td>4</td>\n      <td>899.95</td>\n      <td>911.55</td>\n      <td>3599.80</td>\n      <td>3646.20</td>\n      <td>46.40</td>\n      <td>1.3</td>\n      <td>-0.1</td>\n      <td>NaN</td>\n      <td>...</td>\n      <td>0.0</td>\n      <td>0.0</td>\n      <td>0.0</td>\n      <td>NaN</td>\n      <td>NaN</td>\n      <td>0.00</td>\n      <td>0.00</td>\n      <td>NaN</td>\n      <td>NaN</td>\n      <td>NaN</td>\n    </tr>\n    <tr>\n      <th>13</th>\n      <td>GSPL</td>\n      <td>5</td>\n      <td>303.80</td>\n      <td>305.00</td>\n      <td>1519.00</td>\n      <td>1525.00</td>\n      <td>6.00</td>\n      <td>0.4</td>\n      <td>-0.2</td>\n      <td>Strong Performer, Getting Expensive</td>\n      <td>...</td>\n      <td>61.9</td>\n      <td>66.2</td>\n      <td>127.4</td>\n      <td>Utilities</td>\n      <td>38.6</td>\n      <td>301.83</td>\n      <td>-1.17</td>\n      <td>289.92760</td>\n      <td>-4.566294</td>\n      <td>-13.87240</td>\n    </tr>\n    <tr>\n      <th>14</th>\n      <td>GULFPETRO</td>\n      <td>40</td>\n      <td>68.90</td>\n      <td>67.00</td>\n      <td>2756.00</td>\n      <td>2680.00</td>\n      <td>-76.00</td>\n      <td>-2.8</td>\n      <td>-0.2</td>\n      <td>Strong Performer</td>\n      <td>...</td>\n      <td>21.1</td>\n      <td>-5.0</td>\n      <td>4.8</td>\n      <td>Oil &amp; Gas</td>\n      <td>51.0</td>\n      <td>0.00</td>\n      <td>0.00</td>\n      <td>60.53004</td>\n      <td>-12.147983</td>\n      <td>-8.36996</td>\n    </tr>\n    <tr>\n      <th>15</th>\n      <td>HARRMALAYA</td>\n      <td>5</td>\n      <td>199.90</td>\n      <td>218.90</td>\n      <td>999.50</td>\n      <td>1094.50</td>\n      <td>95.00</td>\n      <td>9.5</td>\n      <td>0.0</td>\n      <td>Strong Performer</td>\n      <td>...</td>\n      <td>212.9</td>\n      <td>143.5</td>\n      <td>250.5</td>\n      <td>Automobiles &amp; Auto Components</td>\n      <td>214.3</td>\n      <td>0.00</td>\n      <td>0.00</td>\n      <td>182.54250</td>\n      <td>-8.683092</td>\n      <td>-17.35750</td>\n    </tr>\n    <tr>\n      <th>16</th>\n      <td>IBULHSGFIN</td>\n      <td>5</td>\n      <td>249.00</td>\n      <td>287.35</td>\n      <td>1245.00</td>\n      <td>1436.75</td>\n      <td>191.75</td>\n      <td>15.4</td>\n      <td>0.0</td>\n      <td>Turnaround Potential</td>\n      <td>...</td>\n      <td>-57.4</td>\n      <td>-76.1</td>\n      <td>-59.7</td>\n      <td>Banking and Finance</td>\n      <td>87.6</td>\n      <td>0.00</td>\n      <td>0.00</td>\n      <td>232.76241</td>\n      <td>-6.521120</td>\n      <td>-16.23759</td>\n    </tr>\n    <tr>\n      <th>17</th>\n      <td>JETAIRWAYS</td>\n      <td>10</td>\n      <td>98.75</td>\n      <td>99.25</td>\n      <td>987.50</td>\n      <td>992.50</td>\n      <td>5.00</td>\n      <td>0.5</td>\n      <td>-0.3</td>\n      <td>Momentum Trap</td>\n      <td>...</td>\n      <td>-11.6</td>\n      <td>-75.2</td>\n      <td>-82.5</td>\n      <td>Transportation</td>\n      <td>259.8</td>\n      <td>0.00</td>\n      <td>0.00</td>\n      <td>91.06700</td>\n      <td>-7.780253</td>\n      <td>-7.68300</td>\n    </tr>\n    <tr>\n      <th>18</th>\n      <td>JUBLINGREA</td>\n      <td>3</td>\n      <td>482.95</td>\n      <td>576.00</td>\n      <td>1448.85</td>\n      <td>1728.00</td>\n      <td>279.15</td>\n      <td>19.3</td>\n      <td>-0.0</td>\n      <td>NaN</td>\n      <td>...</td>\n      <td>0.0</td>\n      <td>0.0</td>\n      <td>0.0</td>\n      <td>Others</td>\n      <td>NaN</td>\n      <td>770.00</td>\n      <td>33.62</td>\n      <td>529.00000</td>\n      <td>9.535149</td>\n      <td>46.05000</td>\n    </tr>\n    <tr>\n      <th>19</th>\n      <td>KARURVYSYA</td>\n      <td>5</td>\n      <td>54.95</td>\n      <td>54.00</td>\n      <td>274.75</td>\n      <td>270.00</td>\n      <td>-4.75</td>\n      <td>-1.7</td>\n      <td>0.0</td>\n      <td>Strong Performer, Under Radar</td>\n      <td>...</td>\n      <td>-30.5</td>\n      <td>-43.9</td>\n      <td>-37.2</td>\n      <td>Banking and Finance</td>\n      <td>101.5</td>\n      <td>33.00</td>\n      <td>-38.89</td>\n      <td>52.27424</td>\n      <td>-4.869445</td>\n      <td>-2.67576</td>\n    </tr>\n    <tr>\n      <th>20</th>\n      <td>KSL</td>\n      <td>5</td>\n      <td>373.30</td>\n      <td>393.65</td>\n      <td>1866.50</td>\n      <td>1968.25</td>\n      <td>101.75</td>\n      <td>5.5</td>\n      <td>0.0</td>\n      <td>Strong Performer</td>\n      <td>...</td>\n      <td>77.3</td>\n      <td>42.0</td>\n      <td>107.4</td>\n      <td>Metals &amp; Mining</td>\n      <td>120.0</td>\n      <td>0.00</td>\n      <td>0.00</td>\n      <td>364.26726</td>\n      <td>-2.419700</td>\n      <td>-9.03274</td>\n    </tr>\n    <tr>\n      <th>21</th>\n      <td>LKPSEC</td>\n      <td>100</td>\n      <td>11.68</td>\n      <td>11.15</td>\n      <td>1168.00</td>\n      <td>1115.00</td>\n      <td>-53.00</td>\n      <td>-4.5</td>\n      <td>-0.3</td>\n      <td>Strong Performer, Getting Expensive</td>\n      <td>...</td>\n      <td>32.3</td>\n      <td>-42.7</td>\n      <td>0.0</td>\n      <td>Commercial Services &amp; Supplies</td>\n      <td>132.9</td>\n      <td>0.00</td>\n      <td>0.00</td>\n      <td>10.20000</td>\n      <td>-12.671233</td>\n      <td>-1.48000</td>\n    </tr>\n    <tr>\n      <th>22</th>\n      <td>MAFANG</td>\n      <td>211</td>\n      <td>47.95</td>\n      <td>49.60</td>\n      <td>10117.45</td>\n      <td>10465.60</td>\n      <td>348.15</td>\n      <td>3.4</td>\n      <td>0.1</td>\n      <td>NaN</td>\n      <td>...</td>\n      <td>0.0</td>\n      <td>0.0</td>\n      <td>0.0</td>\n      <td>Others</td>\n      <td>NaN</td>\n      <td>0.00</td>\n      <td>0.00</td>\n      <td>47.50000</td>\n      <td>-0.938478</td>\n      <td>-0.45000</td>\n    </tr>\n    <tr>\n      <th>23</th>\n      <td>MOTHERSUMI</td>\n      <td>5</td>\n      <td>248.70</td>\n      <td>246.10</td>\n      <td>1243.50</td>\n      <td>1230.50</td>\n      <td>-13.00</td>\n      <td>-1.0</td>\n      <td>0.6</td>\n      <td>Expensive Star</td>\n      <td>...</td>\n      <td>106.8</td>\n      <td>18.4</td>\n      <td>90.9</td>\n      <td>Automobiles &amp; Auto Components</td>\n      <td>161.5</td>\n      <td>280.33</td>\n      <td>14.58</td>\n      <td>237.72062</td>\n      <td>-4.414708</td>\n      <td>-10.97938</td>\n    </tr>\n    <tr>\n      <th>24</th>\n      <td>NCC</td>\n      <td>25</td>\n      <td>83.65</td>\n      <td>90.45</td>\n      <td>2091.25</td>\n      <td>2261.25</td>\n      <td>170.00</td>\n      <td>8.1</td>\n      <td>0.0</td>\n      <td>Turnaround Potential</td>\n      <td>...</td>\n      <td>-4.7</td>\n      <td>-19.6</td>\n      <td>20.9</td>\n      <td>Cement and Construction</td>\n      <td>207.1</td>\n      <td>106.50</td>\n      <td>17.74</td>\n      <td>77.14648</td>\n      <td>-7.774680</td>\n      <td>-6.50352</td>\n    </tr>\n    <tr>\n      <th>25</th>\n      <td>ORIENTCEM</td>\n      <td>5</td>\n      <td>139.75</td>\n      <td>135.70</td>\n      <td>698.75</td>\n      <td>678.50</td>\n      <td>-20.25</td>\n      <td>-2.9</td>\n      <td>0.0</td>\n      <td>Strong Performer</td>\n      <td>...</td>\n      <td>18.1</td>\n      <td>16.8</td>\n      <td>-19.9</td>\n      <td>Cement and Construction</td>\n      <td>130.0</td>\n      <td>170.00</td>\n      <td>25.28</td>\n      <td>130.13799</td>\n      <td>-6.878004</td>\n      <td>-9.61201</td>\n    </tr>\n    <tr>\n      <th>26</th>\n      <td>POWERGRID</td>\n      <td>5</td>\n      <td>244.70</td>\n      <td>246.80</td>\n      <td>1223.50</td>\n      <td>1234.00</td>\n      <td>10.50</td>\n      <td>0.9</td>\n      <td>0.2</td>\n      <td>Strong Performer</td>\n      <td>...</td>\n      <td>27.2</td>\n      <td>25.9</td>\n      <td>59.9</td>\n      <td>Utilities</td>\n      <td>44.0</td>\n      <td>230.50</td>\n      <td>-6.41</td>\n      <td>229.92296</td>\n      <td>-6.038839</td>\n      <td>-14.77704</td>\n    </tr>\n    <tr>\n      <th>27</th>\n      <td>PRESTIGE</td>\n      <td>3</td>\n      <td>297.05</td>\n      <td>293.60</td>\n      <td>891.15</td>\n      <td>880.80</td>\n      <td>-10.35</td>\n      <td>-1.2</td>\n      <td>0.0</td>\n      <td>Mid-range Performer</td>\n      <td>...</td>\n      <td>9.8</td>\n      <td>12.5</td>\n      <td>55.0</td>\n      <td>Realty</td>\n      <td>54.0</td>\n      <td>307.33</td>\n      <td>4.68</td>\n      <td>281.24352</td>\n      <td>-5.321151</td>\n      <td>-15.80648</td>\n    </tr>\n    <tr>\n      <th>28</th>\n      <td>PRICOLLTD</td>\n      <td>10</td>\n      <td>91.00</td>\n      <td>93.00</td>\n      <td>910.00</td>\n      <td>930.00</td>\n      <td>20.00</td>\n      <td>2.2</td>\n      <td>-0.8</td>\n      <td>Strong Performer, Getting Expensive</td>\n      <td>...</td>\n      <td>145.0</td>\n      <td>28.3</td>\n      <td>24.9</td>\n      <td>Automobiles &amp; Auto Components</td>\n      <td>131.1</td>\n      <td>95.00</td>\n      <td>1.39</td>\n      <td>85.61300</td>\n      <td>-5.919780</td>\n      <td>-5.38700</td>\n    </tr>\n    <tr>\n      <th>29</th>\n      <td>RDBRIL</td>\n      <td>20</td>\n      <td>30.23</td>\n      <td>33.90</td>\n      <td>604.60</td>\n      <td>678.00</td>\n      <td>73.40</td>\n      <td>12.1</td>\n      <td>0.2</td>\n      <td>Strong Performer</td>\n      <td>...</td>\n      <td>30.2</td>\n      <td>-21.3</td>\n      <td>18.8</td>\n      <td>Realty</td>\n      <td>78.2</td>\n      <td>0.00</td>\n      <td>0.00</td>\n      <td>21.60000</td>\n      <td>-28.547800</td>\n      <td>-8.63000</td>\n    </tr>\n    <tr>\n      <th>30</th>\n      <td>TANAA</td>\n      <td>10</td>\n      <td>39.50</td>\n      <td>38.00</td>\n      <td>395.00</td>\n      <td>380.00</td>\n      <td>-15.00</td>\n      <td>-3.8</td>\n      <td>0.5</td>\n      <td>NaN</td>\n      <td>...</td>\n      <td>0.0</td>\n      <td>0.0</td>\n      <td>0.0</td>\n      <td>NaN</td>\n      <td>NaN</td>\n      <td>0.00</td>\n      <td>0.00</td>\n      <td>NaN</td>\n      <td>NaN</td>\n      <td>NaN</td>\n    </tr>\n    <tr>\n      <th>31</th>\n      <td>TATASTEEL</td>\n      <td>1</td>\n      <td>1134.00</td>\n      <td>1163.50</td>\n      <td>1134.00</td>\n      <td>1163.50</td>\n      <td>29.50</td>\n      <td>2.6</td>\n      <td>0.4</td>\n      <td>Strong Performer</td>\n      <td>...</td>\n      <td>135.2</td>\n      <td>96.8</td>\n      <td>245.8</td>\n      <td>Metals &amp; Mining</td>\n      <td>269.9</td>\n      <td>829.40</td>\n      <td>-28.40</td>\n      <td>1074.26746</td>\n      <td>-5.267420</td>\n      <td>-59.73254</td>\n    </tr>\n    <tr>\n      <th>32</th>\n      <td>TORNTPOWER</td>\n      <td>4</td>\n      <td>455.00</td>\n      <td>463.90</td>\n      <td>1820.00</td>\n      <td>1855.60</td>\n      <td>35.60</td>\n      <td>2.0</td>\n      <td>-0.2</td>\n      <td>Strong Performer, Getting Expensive</td>\n      <td>...</td>\n      <td>87.4</td>\n      <td>80.5</td>\n      <td>152.7</td>\n      <td>Utilities</td>\n      <td>42.6</td>\n      <td>470.50</td>\n      <td>1.26</td>\n      <td>448.15500</td>\n      <td>-1.504396</td>\n      <td>-6.84500</td>\n    </tr>\n    <tr>\n      <th>33</th>\n      <td>TV18BRDCST</td>\n      <td>15</td>\n      <td>41.25</td>\n      <td>46.15</td>\n      <td>618.75</td>\n      <td>692.25</td>\n      <td>73.50</td>\n      <td>11.9</td>\n      <td>0.3</td>\n      <td>Strong Performer, Getting Expensive</td>\n      <td>...</td>\n      <td>65.2</td>\n      <td>-19.2</td>\n      <td>12.6</td>\n      <td>Media</td>\n      <td>63.1</td>\n      <td>0.00</td>\n      <td>0.00</td>\n      <td>34.97824</td>\n      <td>-15.204267</td>\n      <td>-6.27176</td>\n    </tr>\n    <tr>\n      <th>34</th>\n      <td>YESBANK</td>\n      <td>75</td>\n      <td>13.45</td>\n      <td>14.39</td>\n      <td>1008.75</td>\n      <td>1079.25</td>\n      <td>70.50</td>\n      <td>7.0</td>\n      <td>-0.3</td>\n      <td>Momentum Trap</td>\n      <td>...</td>\n      <td>-89.7</td>\n      <td>-95.7</td>\n      <td>-93.2</td>\n      <td>Banking and Finance</td>\n      <td>-51.7</td>\n      <td>12.00</td>\n      <td>-16.67</td>\n      <td>13.48765</td>\n      <td>0.279926</td>\n      <td>0.03765</td>\n    </tr>\n  </tbody>\n</table>\n<p>35 rows × 30 columns</p>\n</div>"
     },
     "metadata": {},
     "execution_count": 1
    }
   ],
   "source": [
    "operating_directory=os.getcwd()\n",
    "chromeDriver_path=os.path.join(os.path.dirname(os.getcwd()), \"chromedriver\")\n",
    "excludeStocks=['YESBANK','IDEA','GOLDBEES','JUNIORBEES']\n",
    "\n",
    "from Zerodha_workflow import zerodha_workflow as z\n",
    "z=z.zerodha_workflow(operating_directory,chromeDriver_path)\n",
    "\n",
    "print(\"Zerodha WF complete\")\n",
    "\n",
    "from Trendlyn_workflow import trendlyn_workflow as t\n",
    "t=t.trendlyn_workflow(operating_directory,chromeDriver_path)\n",
    "print(\"Trendlyne WF complete\")\n",
    "\n",
    "from Enigma import enigma as engm\n",
    "e=engm.enigma(operating_directory,chromeDriver_path,excludeStocks)\n",
    "\n",
    "e.data.to_excel(os.path.join(os.getcwd(),'support_resistance.xlsx'),index=False)\n",
    "e.temp\n"
   ]
  },
  {
   "cell_type": "code",
   "execution_count": 1,
   "metadata": {},
   "outputs": [],
   "source": [
    "import os"
   ]
  },
  {
   "cell_type": "code",
   "execution_count": 9,
   "metadata": {},
   "outputs": [
    {
     "output_type": "stream",
     "name": "stdout",
     "text": [
      "/Users/rd/Documents/r_d/enigma\n"
     ]
    }
   ],
   "source": [
    "print(os.getcwd())"
   ]
  },
  {
   "cell_type": "code",
   "execution_count": 10,
   "metadata": {},
   "outputs": [
    {
     "output_type": "execute_result",
     "data": {
      "text/plain": [
       "'/Users/rd/Documents/r_d/enigma'"
      ]
     },
     "metadata": {},
     "execution_count": 10
    }
   ],
   "source": [
    "os.getcwd()"
   ]
  },
  {
   "cell_type": "code",
   "execution_count": 13,
   "metadata": {},
   "outputs": [
    {
     "output_type": "execute_result",
     "data": {
      "text/plain": [
       "'/Users/rd/Documents/r_d/chromedriver'"
      ]
     },
     "metadata": {},
     "execution_count": 13
    }
   ],
   "source": [
    "os.path.join(os.path.dirname(os.getcwd()), \"chromedriver\")"
   ]
  },
  {
   "cell_type": "code",
   "execution_count": null,
   "metadata": {},
   "outputs": [],
   "source": []
  }
 ],
 "metadata": {
  "kernelspec": {
   "name": "python3",
   "display_name": "Python 3.9.4 64-bit"
  },
  "language_info": {
   "codemirror_mode": {
    "name": "ipython",
    "version": 3
   },
   "file_extension": ".py",
   "mimetype": "text/x-python",
   "name": "python",
   "nbconvert_exporter": "python",
   "pygments_lexer": "ipython3",
   "version": "3.9.4"
  },
  "interpreter": {
   "hash": "aee8b7b246df8f9039afb4144a1f6fd8d2ca17a180786b69acc140d282b71a49"
  }
 },
 "nbformat": 4,
 "nbformat_minor": 4
}